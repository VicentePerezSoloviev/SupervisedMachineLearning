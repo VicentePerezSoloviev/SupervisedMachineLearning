{
 "cells": [
  {
   "cell_type": "markdown",
   "id": "0ea3e45f",
   "metadata": {},
   "source": [
    "# Ejercicio práctico\n",
    "\n",
    "Has aprendido a realizar una selección de variables en Python usando diferentes aproximaciones. Ahora te propongo que, dado un dataset, apliques selección de variables, y luego apliques todos los clasificadores que hemos dado en la clase, para comprobar como de bien se ajustan los modelos. Comparativa de modelos.\n",
    "\n",
    "1. Aplica un método de selección de variables al dataset (a elección).\n",
    "2. (Opcional) Encapsula en funciones el código de clasificadores que hemos dado, para tener un código limpio y ordenado.\n",
    "3. Realiza una separación de los datos en entrenamiento y test.\n",
    "3. Aplica los clasificadores sobre los datos de entrenamiento.\n",
    "4. Busca una métrica para evaluar las predicciones y comparalos todos sobre los datos de test con esa métrica.\n",
    "\n",
    "En la carpeta data hay un dataset que no hemos usado todavía: winequality-white.csv. Podéis usar ese o uno de los que ya hemos usado hasta el momento. Si usáis este dataset, la variable y suele ser la calidad del vino (variable Quality)."
   ]
  },
  {
   "cell_type": "code",
   "execution_count": null,
   "id": "cc4806d1",
   "metadata": {},
   "outputs": [],
   "source": []
  }
 ],
 "metadata": {
  "kernelspec": {
   "display_name": "Python 3",
   "language": "python",
   "name": "python3"
  },
  "language_info": {
   "codemirror_mode": {
    "name": "ipython",
    "version": 3
   },
   "file_extension": ".py",
   "mimetype": "text/x-python",
   "name": "python",
   "nbconvert_exporter": "python",
   "pygments_lexer": "ipython3",
   "version": "3.8.8"
  }
 },
 "nbformat": 4,
 "nbformat_minor": 5
}
